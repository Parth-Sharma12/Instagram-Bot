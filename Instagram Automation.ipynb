{
 "cells": [
  {
   "cell_type": "code",
   "execution_count": null,
   "id": "07cc7435",
   "metadata": {},
   "outputs": [],
   "source": [
    "from selenium import webdriver\n",
    "import time\n",
    "driver = webdriver.Chrome()\n",
    "driver.get(\"https://instagram.com\")\n",
    "time.sleep(3)\n",
    "id_ = driver.find_element_by_xpath('//*[@id=\"loginForm\"]/div/div[1]/div/label/input')\n",
    "id_.send_keys(#Profile ID)\n",
    "time.sleep(3)\n",
    "password = driver.find_element_by_xpath('//*[@id=\"loginForm\"]/div/div[2]/div/label/input')\n",
    "password.send_keys(#Password)\n",
    "\n",
    "login =driver.find_element_by_xpath('//*[@id=\"loginForm\"]/div/div[3]')\n",
    "login.click()\n",
    "time.sleep(3)\n",
    "Searchbox = driver.find_element_by_xpath('//*[@id=\"react-root\"]/section/nav/div[2]/div/div/div[2]/input')\n",
    "Searchbox.send_keys(#Profile Id to search for)\n",
    "time.sleep(3)\n",
    "Profile_name = driver.find_element_by_xpath('//*[@id=\"react-root\"]/section/nav/div[2]/div/div/div[2]/div[3]/div/div[2]/div/div[1]/a')\n",
    "Profile_name.click()\n",
    "time.sleep(3)\n",
    "Photo = driver.find_element_by_xpath('//*[@id=\"react-root\"]/section/main/div/div[2]/article/div/div/div/div[1]/a/div/div[2]')\n",
    "Photo.click()\n",
    "time.sleep(3)\n",
    "like = driver.find_element_by_xpath('/html/body/div[6]/div[2]/div/article/div[3]/section[1]/span[1]/button')\n",
    "like.click()\n",
    "time.sleep(3)\n",
    "comment = driver.find_element_by_xpath('/html/body/div[6]/div[2]/div/article/div[3]/section[1]/span[2]/button')\n",
    "comment.click()\n",
    "time.sleep(3)\n",
    "comment_write = driver.find_element_by_xpath('/html/body/div[6]/div[2]/div/article/div[3]/section[3]/div/form/textarea')\n",
    "comment_write.send_keys(#Whatever Comment We Want to post)\n",
    "time.sleep(3)\n",
    "post = driver.find_element_by_xpath('/html/body/div[6]/div[2]/div/article/div[3]/section[3]/div/form/button[2]')\n",
    "post.click()\n"
   ]
  }
 ],
 "metadata": {
  "kernelspec": {
   "display_name": "Python 3",
   "language": "python",
   "name": "python3"
  },
  "language_info": {
   "codemirror_mode": {
    "name": "ipython",
    "version": 3
   },
   "file_extension": ".py",
   "mimetype": "text/x-python",
   "name": "python",
   "nbconvert_exporter": "python",
   "pygments_lexer": "ipython3",
   "version": "3.8.8"
  }
 },
 "nbformat": 4,
 "nbformat_minor": 5
}
